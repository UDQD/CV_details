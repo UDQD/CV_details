{
 "cells": [
  {
   "cell_type": "code",
   "execution_count": 59,
   "id": "30d48d2b",
   "metadata": {},
   "outputs": [],
   "source": [
    "import numpy as np\n",
    "import tensorflow as tf\n",
    "from tensorflow.keras.preprocessing.image import ImageDataGenerator\n",
    "from keras.models import load_model\n",
    "from tensorflow.keras.preprocessing.image import load_img, img_to_array\n",
    "import matplotlib.pyplot as plt\n",
    "import glob\n",
    "import os\n",
    "import pandas as pd"
   ]
  },
  {
   "cell_type": "code",
   "execution_count": 18,
   "id": "f20f9ac3",
   "metadata": {},
   "outputs": [],
   "source": [
    "model = load_model(\"my_model.h5\")"
   ]
  },
  {
   "cell_type": "code",
   "execution_count": 100,
   "id": "8f6b6027",
   "metadata": {},
   "outputs": [
    {
     "name": "stdout",
     "output_type": "stream",
     "text": [
      "['IMG_7853.jpeg', 'IMG_7856.jpeg', 'IMG_7859.jpeg', 'IMG_7862.jpeg', 'IMG_7865.jpeg', 'IMG_7893.jpeg', 'IMG_7896.jpeg', 'IMG_7899.jpeg']\n"
     ]
    }
   ],
   "source": [
    "content = os.listdir('input/')\n",
    "# print(content)"
   ]
  },
  {
   "cell_type": "code",
   "execution_count": 101,
   "id": "217236c2",
   "metadata": {},
   "outputs": [],
   "source": [
    "df = pd.DataFrame(content)"
   ]
  },
  {
   "cell_type": "code",
   "execution_count": 105,
   "id": "557a98f7",
   "metadata": {},
   "outputs": [],
   "source": [
    "df.rename(columns = {0 : 'filename'},inplace = True)"
   ]
  },
  {
   "cell_type": "code",
   "execution_count": 106,
   "id": "f9433586",
   "metadata": {},
   "outputs": [],
   "source": [
    "df['value'] = None"
   ]
  },
  {
   "cell_type": "code",
   "execution_count": 108,
   "id": "945bfa01",
   "metadata": {},
   "outputs": [],
   "source": [
    "for name in content:\n",
    "    ind = df[df['filename']==name].index[0]\n",
    "    img = load_img(f'input/{name}')\n",
    "    img_array = img_to_array(img)\n",
    "    img_array = tf.image.resize(img_array, (IMG_SHAPE, IMG_SHAPE))\n",
    "    img_array = img_array / 255.0\n",
    "    img_expended = np.expand_dims(img_array, axis=0)\n",
    "    prediction = round(float(model.predict(img_expended)))\n",
    "    pred_label = 'small' if prediction == 1 else 'big'\n",
    "    if pred_label == 'small':\n",
    "        img.save(f'output/small/{name}')\n",
    "        df['value'][ind] = 'small'\n",
    "    else:\n",
    "        img.save(f'output/big/{name}')\n",
    "        df['value'][ind] = 'big'\n",
    "df.to_excel('output_table.xlsx')"
   ]
  },
  {
   "cell_type": "code",
   "execution_count": null,
   "id": "0a359901",
   "metadata": {},
   "outputs": [],
   "source": []
  }
 ],
 "metadata": {
  "kernelspec": {
   "display_name": "Python 3 (ipykernel)",
   "language": "python",
   "name": "python3"
  },
  "language_info": {
   "codemirror_mode": {
    "name": "ipython",
    "version": 3
   },
   "file_extension": ".py",
   "mimetype": "text/x-python",
   "name": "python",
   "nbconvert_exporter": "python",
   "pygments_lexer": "ipython3",
   "version": "3.9.7"
  }
 },
 "nbformat": 4,
 "nbformat_minor": 5
}
